{
 "cells": [
  {
   "attachments": {},
   "cell_type": "markdown",
   "metadata": {},
   "source": [
    "# Introduction to biological data analysis\n",
    "\n",
    "## Make your code accessible\n",
    "\n",
    "Clone the [github repository metavannier/data_analysis_fair_workflow](https://github.com/metavannier/data_analysis_fair_workflow) on [Visual Studio](https://visualstudio.microsoft.com/fr/)\n",
    "```\n",
    "Ctrl + Shift + P\n",
    "\n",
    "Clone Git Repository -> https://github.com/metavannier/data_analysis_fair_workflow\n",
    "```\n",
    "\n",
    "Make a change and Commit it"
   ]
  },
  {
   "attachments": {},
   "cell_type": "markdown",
   "metadata": {},
   "source": [
    "Run these Python command lines directly on this Jupyter notebook...does it work ? "
   ]
  },
  {
   "cell_type": "code",
   "execution_count": null,
   "metadata": {
    "tags": []
   },
   "outputs": [],
   "source": [
    "import numpy as np\n",
    "def square(x):\n",
    "    return x * x"
   ]
  },
  {
   "cell_type": "code",
   "execution_count": null,
   "metadata": {
    "tags": []
   },
   "outputs": [],
   "source": [
    "x = np.random.randint(1, 10)\n",
    "y = square(x)\n",
    "print('%d squared is %d' % (x, y))"
   ]
  },
  {
   "attachments": {},
   "cell_type": "markdown",
   "metadata": {},
   "source": [
    "## Make your code interoperable\n",
    "\n",
    "Install singularity :\n",
    "\n",
    "```\n",
    "wget -O- http://neuro.debian.net/lists/focal.de-m.libre | sudo tee /etc/apt/sources.list.d/neurodebian.sources.list\n",
    "```\n",
    "\n",
    "\n",
    "```\n",
    "sudo apt-key adv --recv-keys --keyserver hkps://keyserver.ubuntu.com 0xA5D32F012649A5A9\n",
    "```\n",
    "\n",
    "```\n",
    "sudo apt-get update\n",
    "```\n",
    "\n",
    "```\n",
    "sudo apt-get install singularity-container\n",
    "```\n",
    "\n",
    "\n",
    "Run the docker image of [jupyter/scipy-notebook](https://hub.docker.com/r/jupyter/scipy-notebook) with singularity to start the Kernel.\n",
    "\n",
    "```\n",
    "singularity run docker://jupyter/scipy-notebook\n",
    "```\n",
    "\n",
    "* Change kernel for 'notebook_fair_workflow.ipynb'\n",
    "\n",
    "* Select another kernel\n",
    "\n",
    "* Existing Jupyter Server -> copy/paste the URL\n",
    "\n",
    "\n",
    "=> Try running the above line of code.\n",
    "\n",
    "---\n",
    "\n",
    "Now try to run this code :"
   ]
  },
  {
   "cell_type": "code",
   "execution_count": null,
   "metadata": {},
   "outputs": [],
   "source": [
    "def main():\n",
    "  print (\"Hi! This is Python 3\")\n",
    "  \n",
    "if __name__== \"__main__\":\n",
    "  main()"
   ]
  },
  {
   "cell_type": "code",
   "execution_count": null,
   "metadata": {},
   "outputs": [],
   "source": [
    "def main():\n",
    "  print \"Hi! This is Python 2\"\n",
    "  \n",
    "if __name__== \"__main__\":\n",
    "  main()"
   ]
  },
  {
   "attachments": {},
   "cell_type": "markdown",
   "metadata": {},
   "source": [
    "## Make your code Reusable\n",
    "\n",
    "* Run snakemake from a Docker image with singularity\n",
    "\n",
    "```\n",
    "singularity run docker://snakemake/snakemake:v6.3.0\n",
    "```\n",
    "\n",
    "* Then execute the workflow locally via\n",
    "\n",
    "```\n",
    "`snakemake  --use-conda --use-singularity --cores 10`\n",
    "```"
   ]
  }
 ],
 "metadata": {
  "kernelspec": {
   "display_name": "Python 3 (ipykernel)",
   "language": "python",
   "name": "python3"
  },
  "language_info": {
   "codemirror_mode": {
    "name": "ipython",
    "version": 3
   },
   "file_extension": ".py",
   "mimetype": "text/x-python",
   "name": "python",
   "nbconvert_exporter": "python",
   "pygments_lexer": "ipython3",
   "version": "3.10.10"
  },
  "vscode": {
   "interpreter": {
    "hash": "d2af68a4b51633f13995ebfae92a57b161ed6e58c9d8595f65fa30edeb049295"
   }
  }
 },
 "nbformat": 4,
 "nbformat_minor": 4
}
