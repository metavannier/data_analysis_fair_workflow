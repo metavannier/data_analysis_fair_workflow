{
 "cells": [
  {
   "attachments": {},
   "cell_type": "markdown",
   "metadata": {},
   "source": [
    "# Introduction to biological data analysis\n",
    "\n",
    "## How to run an Lubuntu 22.04.2 Desktop virtual machine using VirtualBox 7\n",
    "\n",
    "- Download VirtualBox :\n",
    "\n",
    "https://www.virtualbox.org/wiki/Downloads\n",
    "\n",
    "- Download Lubuntu 22.04 LTS :\n",
    "\n",
    "https://cdimages.ubuntu.com/lubuntu/releases/22.04/release/lubuntu-22.04.2-desktop-amd64.iso\n",
    "\n",
    "- Follow the instructions :\n",
    "\n",
    "https://ubuntu.com/tutorials/how-to-run-ubuntu-desktop-on-a-virtual-machine-using-virtualbox#1-overview\n",
    "\n",
    "If needed change the scale factor of the screen on VirtualBox : Settings/Display/~150%\n",
    "\n",
    "Update the system and restart ubuntu\n",
    "\n",
    "## Make your code accessible\n",
    "\n",
    "Install Visual Studio code with “ubuntu software”\n",
    "\n",
    "- Not necessary if you are using lubuntu\n",
    "\n",
    "To become root on the Terminal :\n",
    "\n",
    "```\n",
    "su -\n",
    "usermod -a -G sudo YourUserName\n",
    "apt install vim\n",
    "sudo vim /etc/sudoers\n",
    "add the line YourUserName ALL=(ALL:ALL) ALL\n",
    "quit vim : $ :x!\n",
    "```\n",
    "\n",
    "- Install Git: \n",
    "\n",
    "```\n",
    "sudo apt-get install git\n",
    "```\n",
    "\n",
    "Close visual studio and reopen it to see the changes\n",
    "\n",
    "- Clone the [github repository metavannier/data_analysis_fair_workflow](https://github.com/metavannier/data_analysis_fair_workflow) on [Visual Studio](https://visualstudio.microsoft.com/fr/)\n",
    "\n",
    "```\n",
    "Ctrl + Shift + P\n",
    "\n",
    "Clone Git Repository -> https://github.com/metavannier/data_analysis_fair_workflow\n",
    "```\n",
    "\n",
    "Make a change and Commit it"
   ]
  },
  {
   "attachments": {},
   "cell_type": "markdown",
   "metadata": {},
   "source": [
    "## Make your code interoperable\n",
    "\n",
    "Run these Python command lines directly on this Jupyter notebook...does it work ? "
   ]
  },
  {
   "cell_type": "code",
   "execution_count": null,
   "metadata": {
    "tags": []
   },
   "outputs": [],
   "source": [
    "import numpy as np\n",
    "def square(x):\n",
    "    return x * x"
   ]
  },
  {
   "cell_type": "code",
   "execution_count": null,
   "metadata": {
    "tags": []
   },
   "outputs": [],
   "source": [
    "x = np.random.randint(1, 10)\n",
    "y = square(x)\n",
    "print('%d squared is %d' % (x, y))"
   ]
  },
  {
   "attachments": {},
   "cell_type": "markdown",
   "metadata": {},
   "source": [
    "### Install singularity :\n",
    "\n",
    "Install Dependencies\n",
    "\n",
    "```\n",
    "sudo apt-get update && sudo apt-get install -y \\\n",
    "    build-essential \\\n",
    "    libssl-dev \\\n",
    "    uuid-dev \\\n",
    "    libgpgme11-dev \\\n",
    "    squashfs-tools \\\n",
    "    libseccomp-dev \\\n",
    "    wget \\\n",
    "    pkg-config \\\n",
    "    git \\\n",
    "    cryptsetup\n",
    "```\n",
    "\n",
    "Install Go\n",
    "\n",
    "```\n",
    "export VERSION=1.16.4 OS=linux ARCH=amd64 && \\  # Replace the values as needed\n",
    "  wget https://dl.google.com/go/go$VERSION.$OS-$ARCH.tar.gz && \\ # Downloads the required Go package\n",
    "  sudo tar -C /usr/local -xzvf go$VERSION.$OS-$ARCH.tar.gz && \\ # Extracts the archive\n",
    "  rm go$VERSION.$OS-$ARCH.tar.gz    # Deletes the ``tar`` file\n",
    "```\n",
    "\n",
    "```\n",
    "echo 'export PATH=/usr/local/go/bin:$PATH' >> ~/.bashrc && \\\n",
    "  source ~/.bashrc\n",
    "```\n",
    "\n",
    "Download and install Singularity from a release\n",
    "\n",
    "```\n",
    "export VERSION=3.8.4 && # adjust this as necessary \\\n",
    "    wget https://github.com/sylabs/singularity/releases/download/v${VERSION}/singularity-ce-${VERSION}.tar.gz && \\\n",
    "    tar -xzf singularity-ce-${VERSION}.tar.gz && \\\n",
    "    cd singularity-ce-${VERSION}\n",
    "```\n",
    "\n",
    "Compile the SingularityCE source code\n",
    "\n",
    "```\n",
    "./mconfig && \\\n",
    "    make -C builddir && \\\n",
    "    sudo make -C builddir install\n",
    "```\n",
    "\n",
    "Run the docker image of [jupyter/scipy-notebook](https://hub.docker.com/r/jupyter/scipy-notebook) with singularity to start the Kernel.\n",
    "\n",
    "```\n",
    "singularity run docker://jupyter/scipy-notebook\n",
    "```\n",
    "\n",
    "* Change kernel for 'notebook_fair_workflow.ipynb'\n",
    "\n",
    "* Select another kernel\n",
    "\n",
    "* Existing Jupyter Server -> copy/paste the URL\n",
    "\n",
    "\n",
    "=> Try running the above line of code.\n",
    "\n",
    "---\n",
    "\n",
    "Now try to run this code :"
   ]
  },
  {
   "cell_type": "code",
   "execution_count": null,
   "metadata": {},
   "outputs": [],
   "source": [
    "def main():\n",
    "  print (\"Hi! This is Python 3\")\n",
    "  \n",
    "if __name__== \"__main__\":\n",
    "  main()"
   ]
  },
  {
   "cell_type": "code",
   "execution_count": null,
   "metadata": {},
   "outputs": [],
   "source": [
    "def main():\n",
    "  print \"Hi! This is Python 2\"\n",
    "  \n",
    "if __name__== \"__main__\":\n",
    "  main()"
   ]
  },
  {
   "attachments": {},
   "cell_type": "markdown",
   "metadata": {},
   "source": [
    "## Make your code Reusable\n",
    "\n",
    "* Run snakemake from a Docker image with singularity\n",
    "\n",
    "```\n",
    "singularity run docker://snakemake/snakemake:v6.3.0\n",
    "```\n",
    "\n",
    "* Then execute the workflow locally via\n",
    "\n",
    "```\n",
    "`snakemake --use-conda --use-singularity --cores 4`\n",
    "```"
   ]
  }
 ],
 "metadata": {
  "kernelspec": {
   "display_name": "Python 3 (ipykernel)",
   "language": "python",
   "name": "python3"
  },
  "language_info": {
   "codemirror_mode": {
    "name": "ipython",
    "version": 3
   },
   "file_extension": ".py",
   "mimetype": "text/x-python",
   "name": "python",
   "nbconvert_exporter": "python",
   "pygments_lexer": "ipython3",
   "version": "3.10.10"
  },
  "vscode": {
   "interpreter": {
    "hash": "d2af68a4b51633f13995ebfae92a57b161ed6e58c9d8595f65fa30edeb049295"
   }
  }
 },
 "nbformat": 4,
 "nbformat_minor": 4
}
